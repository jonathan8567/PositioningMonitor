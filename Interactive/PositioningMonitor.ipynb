{
 "cells": [
  {
   "cell_type": "markdown",
   "id": "4f35c143",
   "metadata": {},
   "source": [
    "conda install plotly \n",
    "conda install dash \n",
    "conda install -c conda-forge -c plotly jupyter-dash\n",
    "conda install -c conda-forge dash-bootstrap-components"
   ]
  },
  {
   "cell_type": "code",
   "execution_count": 1,
   "id": "282e54d3",
   "metadata": {},
   "outputs": [
    {
     "name": "stdout",
     "output_type": "stream",
     "text": [
      "Type FUND CODE then press Enter:  X2947\n",
      "Dash app running on http://127.0.0.1:8050/\n"
     ]
    }
   ],
   "source": [
    "import os\n",
    "os.getcwd()\n",
    "os.chdir("Where you save the package")\n",
    "import Interactive.PositionMonitor as PM\n",
    "\n",
    "fund = input(\"Type FUND CODE then press Enter:  \")\n",
    "PM.PositionReporting(fund).run_dash()    "
   ]
  },
  {
   "cell_type": "code",
   "execution_count": null,
   "id": "725ce5b4",
   "metadata": {},
   "outputs": [],
   "source": []
  }
 ],
 "metadata": {
  "kernelspec": {
   "display_name": "Python 3 (ipykernel)",
   "language": "python",
   "name": "python3"
  },
  "language_info": {
   "codemirror_mode": {
    "name": "ipython",
    "version": 3
   },
   "file_extension": ".py",
   "mimetype": "text/x-python",
   "name": "python",
   "nbconvert_exporter": "python",
   "pygments_lexer": "ipython3",
   "version": "3.9.7"
  }
 },
 "nbformat": 4,
 "nbformat_minor": 5
}
